{
 "cells": [
  {
   "cell_type": "code",
   "execution_count": 8,
   "metadata": {
    "collapsed": true
   },
   "outputs": [],
   "source": [
    "from arcpy import *"
   ]
  },
  {
   "cell_type": "code",
   "execution_count": 10,
   "metadata": {
    "collapsed": true
   },
   "outputs": [],
   "source": [
    "env.workspace = r'D:\\Data_arcpy\\Data_Ctr_2021_ProgSIG\\Data_Ctr_2021_ProgSIG\\Shapefiles'\n",
    "env.overwriteOutput=True"
   ]
  },
  {
   "cell_type": "code",
   "execution_count": null,
   "metadata": {
    "collapsed": true
   },
   "outputs": [],
   "source": [
    "#qst1"
   ]
  },
  {
   "cell_type": "code",
   "execution_count": 14,
   "metadata": {
    "collapsed": false
   },
   "outputs": [
    {
     "name": "stdout",
     "output_type": "stream",
     "text": [
      "Nord_Maroc_Degree\n",
      "GCS_Merchich_Degree\n",
      "Nord_Maroc_Degree\n"
     ]
    }
   ],
   "source": [
    "for couche in ListFeatureClasses():\n",
    "    print Describe(couche).spatialReference.name"
   ]
  },
  {
   "cell_type": "code",
   "execution_count": 19,
   "metadata": {
    "collapsed": false
   },
   "outputs": [
    {
     "data": {
      "text/plain": [
       "<Result 'D:\\\\Data_arcpy\\\\Data_Ctr_2021_ProgSIG\\\\Data_Ctr_2021_ProgSIG\\\\Shapefiles\\\\Oueds.shp'>"
      ]
     },
     "execution_count": 19,
     "metadata": {},
     "output_type": "execute_result"
    }
   ],
   "source": [
    "#qst2\n",
    "fc = \"Communes.shp\"\n",
    "coord_of_commune = Describe(fc).spatialReference\n",
    "DefineProjection_management(\"Oueds.shp\", coord_of_commune)"
   ]
  },
  {
   "cell_type": "code",
   "execution_count": 69,
   "metadata": {
    "collapsed": false
   },
   "outputs": [
    {
     "name": "stdout",
     "output_type": "stream",
     "text": [
      "OID\n",
      "Geometry\n",
      "String\n",
      "String\n",
      "String\n",
      "Integer\n",
      "Single\n",
      "Integer\n",
      "String\n",
      "Double\n",
      "Double\n"
     ]
    }
   ],
   "source": [
    "for field in ListFields(fc):\n",
    "    print field.type"
   ]
  },
  {
   "cell_type": "code",
   "execution_count": 60,
   "metadata": {
    "collapsed": false
   },
   "outputs": [
    {
     "name": "stdout",
     "output_type": "stream",
     "text": [
      "11\n"
     ]
    }
   ],
   "source": [
    "l= []\n",
    "for field in ListFields(fc):\n",
    "    l.append(field.name)\n",
    "print(len(l))"
   ]
  },
  {
   "cell_type": "code",
   "execution_count": 29,
   "metadata": {
    "collapsed": false
   },
   "outputs": [],
   "source": [
    "#qst3\n",
    "\n",
    "AddField_management(fc,\"Superficie\",\"Double\")     \n",
    "expression1 = \"{}\".format(\"!SHAPE.area@SQUAREKILOMETERS!\")    \n",
    "CalculateField_management(fc, \"Superficie\", expression1, \"PYTHON\" )\n",
    "\n",
    "AddField_management(fc,\"Densite_p\",\"Double\")  \n",
    "with da.UpdateCursor(fc, [\"Population\", \"Superficie\", \"Densite_p\"]) as cursor:\n",
    "    for row in cursor:\n",
    "        row[2] = row[0]/row[1]\n",
    "        cursor.updateRow(row)\n"
   ]
  },
  {
   "cell_type": "code",
   "execution_count": 31,
   "metadata": {
    "collapsed": false
   },
   "outputs": [
    {
     "name": "stdout",
     "output_type": "stream",
     "text": [
      "x\n"
     ]
    }
   ],
   "source": [
    "print \"x\""
   ]
  },
  {
   "cell_type": "code",
   "execution_count": 66,
   "metadata": {
    "collapsed": false
   },
   "outputs": [
    {
     "name": "stdout",
     "output_type": "stream",
     "text": [
      "ABADOU\n",
      "ADAGHAS\n",
      "ADASSIL\n",
      "AFALLA ISSEN\n",
      "AGHBAR\n",
      "AGLIF\n",
      "AGUERD\n",
      "AHDIL\n",
      "AIN TAZITOUNTE\n",
      "AIT AADEL\n",
      "AIT AISSI IHAHANE\n",
      "AIT DAOUD\n",
      "AIT FASKA\n",
      "AIT HADDOU YOUSSEF\n",
      "AIT HADI\n",
      "AIT HAMMOU\n",
      "AIT HKIM AIT IZID\n",
      "AIT OURIR\n",
      "AIT SAID\n",
      "AIT SIDI DAOUD\n",
      "AIT TALEB\n",
      "AKARMA\n",
      "ALOUIDANE\n",
      "AGAFAY\n",
      "AMGHRAS\n",
      "AMIZMIZ\n",
      "ANNAKHIL\n",
      "MENARA\n",
      "ANOUGAL\n",
      "AQERMOUD\n",
      "ASNI\n",
      "ASSAHRIJ\n",
      "ASSAIS\n",
      "ASSIF EL MAL\n",
      "AZGOUR\n",
      "MARRAKECH MEDINA\n",
      "MNABHA\n",
      "LOUDAYA\n",
      "CHICHAOUA\n",
      "CHOARA\n",
      "CHTAIBA\n",
      "DAR JAMAA\n",
      "EDDACHRA\n",
      "EL AAMRIA\n",
      "MZEM SANHAJA\n",
      "MZOUDA\n",
      "NFIFA\n",
      "KECHOULA\n",
      "SAADA\n",
      "OUAZGUITA\n",
      "HAD DRA\n",
      "AIT IMOUR\n",
      "HIADNA\n",
      "IDA OU AAZZA\n",
      "MACHOUAR KASBA\n",
      "MESKALA\n",
      "SKHOUR RHAMNA\n",
      "SKOURA LHADRA\n",
      "SOUIHLA\n",
      "KELAAT SRAGHNA\n",
      "ERRAFIAYA\n",
      "ESSAOUIRA\n",
      "GMASSA\n",
      "FRAITA\n",
      "TIDILI MESFIOUA\n",
      "JAAFRA\n",
      "JOUALA\n",
      "LAATTAOUIA ECHCHAYBIA\n",
      "LAATAOUIA\n",
      "LAGDADRA\n",
      "LALLA AAZIZA\n",
      "LAMHARRA\n",
      "LAMZOUDIA\n",
      "LOUNASDA\n",
      "LAATAMNA\n",
      "OULAD MOUMNA\n",
      "OULAD MTAA\n",
      "OUNAGHA\n",
      "OURIKA\n",
      "RAHHALA\n",
      "RAS AIN RHAMNA\n",
      "SIDI ALI LABRAHLA\n",
      "SIDI MOUSSA\n",
      "TAFEDNA\n",
      "STI FADMA\n",
      "TOUAMA\n",
      "ZAOUIAT ANNAHLIA\n",
      "ZAOUIAT BEN HMIDA\n",
      "ZEMRANE CHARQIA\n",
      "ZNADA\n"
     ]
    }
   ],
   "source": [
    "#qst4\n",
    "with da.SearchCursor(fc,[\"Nom_Com\"],\n",
    "                     \"Nom_Com LIKE '%A' or Nom_Com LIKE 'A%'\", \"\",\"ORDER BY 'Population' \") as cursor:\n",
    "    for row in cursor:\n",
    "        print('{}'.format(row[0]))"
   ]
  },
  {
   "cell_type": "code",
   "execution_count": 43,
   "metadata": {
    "collapsed": false
   },
   "outputs": [
    {
     "name": "stdout",
     "output_type": "stream",
     "text": [
      "AFALLA ISSEN\n",
      "AGHBAR\n",
      "AGLIF\n",
      "AHDIL\n",
      "AIN TAZITOUNTE\n",
      "AIT AADEL\n",
      "AIT AISSI IHAHANE\n",
      "AIT HADDOU YOUSSEF\n",
      "AIT HAMMOU\n",
      "AIT HKIM AIT IZID\n",
      "AIT TALEB\n",
      "AKARMA\n",
      "ANOUGAL\n",
      "BIZDAD\n",
      "ASSAIS\n",
      "ASSIF EL MAL\n",
      "AZGOUR\n",
      "MRAMER\n",
      "MKHALIF\n",
      "BOUABOUT\n",
      "BOUABOUT AMDLANE\n",
      "BOUZEMMOUR\n",
      "CHTAIBA\n",
      "DOUIRANE\n",
      "EL AAMRIA\n",
      "MZEM SANHAJA\n",
      "MZILATE\n",
      "MZOUDA\n",
      "OUAZGUITA\n",
      "OUAD LBOUR\n",
      "ICHAMRAREN\n",
      "SKOURA LHADRA\n",
      "SMIMOU\n",
      "ERRAFIAYA\n",
      "OULAD CHERKI\n",
      "IDA OU GUELLOUL\n",
      "IDA OU KAZZOU\n",
      "SID ZOUINE\n",
      "FRAITA\n",
      "IGHIL\n",
      "IGUERFEROUANE\n",
      "IJOUKAK\n",
      "IMGRADE\n",
      "IMI NTLIT\n",
      "IMINDOUNIT\n",
      "IROHALEN\n",
      "TIDZI\n",
      "TIMLILT\n",
      "JAAFRA\n",
      "JBIEL\n",
      "LAGDADRA\n",
      "LALLA AAZIZA\n",
      "LAMHARRA\n",
      "LAMZOUDIA\n",
      "KORIMATE\n",
      "KOUZEMT\n",
      "TIZGUINE\n",
      "SIDI AISSA REGRAGUI\n",
      "SIDI AHMED ESSAYEH\n",
      "TAMAGUERT\n",
      "OULAD EL GARNE\n",
      "OULAD IMLOUL\n",
      "SIDI BOUBKER\n",
      "SIDI BOUZID ARRAGRAGUI\n",
      "SIDI EL HATTAB\n",
      "SIDI EL JAZOULI\n",
      "SIDI GHANEM2\n",
      "SIDI GHANEME\n",
      "TAHELOUANTE\n",
      "TAKATE\n",
      "TAOULOUKOULT\n",
      "TARGANTE\n",
      "ZAOUIAT ANNAHLIA\n",
      "ZAOUIAT BEN HMIDA\n",
      "ZERKTEN\n",
      "le nombre de ces communes:  75\n"
     ]
    }
   ],
   "source": [
    "#qst5\n",
    "with da.SearchCursor(fc,[\"Nom_Com\"],\n",
    "                     \"Taux_Analp > 2*Taux_Activ\") as cursor:\n",
    "    L=[]\n",
    "    for row in cursor:\n",
    "        L.append(row[0])\n",
    "        print('{}'.format(row[0]))\n",
    "print \"le nombre de ces communes: \", len(L)"
   ]
  },
  {
   "cell_type": "code",
   "execution_count": 77,
   "metadata": {
    "collapsed": false
   },
   "outputs": [
    {
     "data": {
      "text/plain": [
       "<Result 'D:\\\\Data_arcpy\\\\Data_Ctr_2021_ProgSIG\\\\Data_Ctr_2021_ProgSIG\\\\Shapefiles\\\\Provinces.shp'>"
      ]
     },
     "execution_count": 77,
     "metadata": {},
     "output_type": "execute_result"
    }
   ],
   "source": [
    "AddField_management(fc,\"CODPR\",\"String\")\n",
    "with da.UpdateCursor(fc,[\"Code_Com\", \"CODPR\"]) as cursor:\n",
    "    for row in cursor:\n",
    "        row[1]=row[0][:3]\n",
    "        cursor.updateRow(row)\n",
    "\n",
    "Dissolve_management(fc, \"Provinces.shp\", \"CODPR\")   \n"
   ]
  },
  {
   "cell_type": "code",
   "execution_count": 79,
   "metadata": {
    "collapsed": false
   },
   "outputs": [
    {
     "name": "stdout",
     "output_type": "stream",
     "text": [
      "483741 339510 749632 452040 1063415\n"
     ]
    }
   ],
   "source": [
    "#suite de qst6\n",
    "with da.SearchCursor(fc,[\"Population\", \"CODPR\"]) as cursor:\n",
    "    pop_prov1 = 0\n",
    "    pop_prov2 = 0\n",
    "    pop_prov3 = 0\n",
    "    pop_prov4 = 0\n",
    "    pop_prov5 = 0\n",
    "    for row in cursor:\n",
    "        if row[1]== '041':\n",
    "            pop_prov1 += row[0]\n",
    "        if row[1]== '161':\n",
    "            pop_prov2 += row[0]\n",
    "        if row[1]== '191':\n",
    "            pop_prov3 += row[0]\n",
    "        if row[1]== '211':\n",
    "            pop_prov4 += row[0]\n",
    "        if row[1]== '351':\n",
    "            pop_prov5 += row[0]\n",
    "    print pop_prov1, pop_prov2, pop_prov3, pop_prov4, pop_prov5"
   ]
  },
  {
   "cell_type": "code",
   "execution_count": 63,
   "metadata": {
    "collapsed": false
   },
   "outputs": [
    {
     "name": "stdout",
     "output_type": "stream",
     "text": [
      "id:20, shape: (236379.79315996345, 202438.88955279413), Code_Com: 191.07.03, Type_Com Rural, name: AIT TALEB, Population: 8871, Taux_Activ: 36.2999992371,Taux_Analp, Densite_p:79,Superficie:35.4621943419\n"
     ]
    }
   ],
   "source": [
    "#qst7\n",
    "with da.SearchCursor(fc,l,\n",
    "                     \"Eleve_ing='LAKTEB OMAR'\") as cursor:\n",
    "    for row in cursor:\n",
    "        print(\"id:{}, shape: {}, Code_Com: {}, Type_Com {}, name: {}, Population: {}, Taux_Activ: {},Taux_Analp, Densite_p:{},Superficie:{}\".format(row[0], row[1], row[2], row[3], row[4], row[5], row[6], row[7], row[9], row[10]))"
   ]
  },
  {
   "cell_type": "code",
   "execution_count": 61,
   "metadata": {
    "collapsed": false
   },
   "outputs": [
    {
     "name": "stdout",
     "output_type": "stream",
     "text": [
      "[u'FID', u'Shape', u'Code_Com', u'Type_Com', u'Nom_Com', u'Population', u'Taux_Activ', u'Taux_Analp', u'Eleve_ing', u'Densite_p', u'Superficie']\n"
     ]
    }
   ],
   "source": [
    "#l cest une list des champs de communes\n",
    "print(l)"
   ]
  },
  {
   "cell_type": "code",
   "execution_count": 80,
   "metadata": {
    "collapsed": false
   },
   "outputs": [
    {
     "name": "stdout",
     "output_type": "stream",
     "text": [
      "population totale: 749632, superficie: 9706.49383287 km² et le code du province est 191\n"
     ]
    }
   ],
   "source": [
    "#qst 8\n",
    "with da.SearchCursor(fc,[\"Population\", \"Superficie\", \"CODPR\"],\n",
    "                     \"CODPR='191'\") as cursor:\n",
    "    pop_tot=0\n",
    "    super_tot=0\n",
    "    for row in cursor:\n",
    "        code = row[2]\n",
    "        pop_tot+=row[0]\n",
    "        super_tot+=row[1]\n",
    "    print \"population totale: {}, superficie: {} km² et le code du province est {}\".format(pop_tot, super_tot, code) "
   ]
  },
  {
   "cell_type": "code",
   "execution_count": null,
   "metadata": {
    "collapsed": true
   },
   "outputs": [],
   "source": []
  }
 ],
 "metadata": {
  "kernelspec": {
   "display_name": "Python 2",
   "language": "python",
   "name": "python2"
  },
  "language_info": {
   "codemirror_mode": {
    "name": "ipython",
    "version": 2
   },
   "file_extension": ".py",
   "mimetype": "text/x-python",
   "name": "python",
   "nbconvert_exporter": "python",
   "pygments_lexer": "ipython2",
   "version": "2.7.10"
  }
 },
 "nbformat": 4,
 "nbformat_minor": 0
}
