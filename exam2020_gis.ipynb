{
 "cells": [
  {
   "cell_type": "code",
   "execution_count": 1,
   "metadata": {
    "collapsed": false
   },
   "outputs": [],
   "source": [
    "from arcpy import *"
   ]
  },
  {
   "cell_type": "code",
   "execution_count": 7,
   "metadata": {
    "collapsed": false,
    "scrolled": true
   },
   "outputs": [],
   "source": [
    "env.workspace = r'D:\\Data_arcpy\\Data_ProgSIG_Ctr20\\Data_ProgSIG_Ctr20'\n",
    "env.overwriteOutput=True"
   ]
  },
  {
   "cell_type": "markdown",
   "metadata": {},
   "source": [
    "Qst 1"
   ]
  },
  {
   "cell_type": "code",
   "execution_count": 25,
   "metadata": {
    "collapsed": false
   },
   "outputs": [
    {
     "name": "stdout",
     "output_type": "stream",
     "text": [
      "Nord_Maroc_Degree\n",
      "Nord_Maroc_Degree\n",
      "Nord_Maroc_Degree\n",
      "Nord_Maroc_Degree\n",
      "Nord_Maroc_Degree\n"
     ]
    }
   ],
   "source": [
    "for couche in ListFeatureClasses():\n",
    "    print Describe(couche).spatialReference.name"
   ]
  },
  {
   "cell_type": "code",
   "execution_count": 9,
   "metadata": {
    "collapsed": false
   },
   "outputs": [
    {
     "data": {
      "text/plain": [
       "<Result 'D:\\\\Data_arcpy\\\\Data_ProgSIG_Ctr20\\\\Data_ProgSIG_Ctr20\\\\Communes_04.shp'>"
      ]
     },
     "execution_count": 9,
     "metadata": {},
     "output_type": "execute_result"
    }
   ],
   "source": [
    "fc = \"Communes_04.shp\"\n",
    "AddField_management(fc,\"area\",\"Double\")     \n",
    "expression1 = \"{}\".format(\"!SHAPE.area@SQUAREKILOMETERS!\")    \n",
    "CalculateField_management(fc, \"area\", expression1, \"PYTHON\" )"
   ]
  },
  {
   "cell_type": "code",
   "execution_count": 24,
   "metadata": {
    "collapsed": false
   },
   "outputs": [
    {
     "name": "stdout",
     "output_type": "stream",
     "text": [
      "2.33297284295\n"
     ]
    }
   ],
   "source": [
    "'''def lisfeature():\n",
    "    return [feature for feature in ListFeatureClasses()]\n",
    "\n",
    "i=1\n",
    "for couche in ListFeatureClasses():\n",
    "    if 'c' in Describe(couche).name.upper():\n",
    "        i+=1\n",
    "        \n",
    "print(i)'''\n",
    "\n",
    "Cur = da.SearchCursor(fc, [\"area\", \"pop04\"])\n",
    "\n",
    "row = Cur.next()\n",
    "print row[0]\n"
   ]
  },
  {
   "cell_type": "markdown",
   "metadata": {},
   "source": [
    "QST 2"
   ]
  },
  {
   "cell_type": "code",
   "execution_count": 6,
   "metadata": {
    "collapsed": false,
    "scrolled": true
   },
   "outputs": [
    {
     "name": "stdout",
     "output_type": "stream",
     "text": [
      "name:FID, type: OID\n",
      "name:Shape, type: Geometry\n",
      "name:CODPR, type: Double\n",
      "name:CODEC, type: String\n",
      "name:LIBELLE, type: String\n",
      "name:POP04, type: Double\n",
      "name:ANALPH, type: Double\n",
      "name:ACTV, type: Double\n",
      "name:POV, type: Double\n",
      "name:TYPE, type: String\n",
      "name:Eleve_ing, type: String\n",
      "name:area, type: Double\n"
     ]
    }
   ],
   "source": [
    "for champ in ListFields(fc):\n",
    "    print \"name:\" + champ.name + \", type: \"+ champ.type"
   ]
  },
  {
   "cell_type": "markdown",
   "metadata": {},
   "source": [
    "QST 3"
   ]
  },
  {
   "cell_type": "code",
   "execution_count": 9,
   "metadata": {
    "collapsed": false
   },
   "outputs": [
    {
     "name": "stdout",
     "output_type": "stream",
     "text": [
      "CR AIT MALEK\n",
      "CR AIT MIMOUNE\n",
      "CR AIT OURIBEL\n",
      "CR AIT SIBERNE\n",
      "CR AIT YADINE\n",
      "CR AIT ICHOU\n",
      "CR AIT IKKOU\n",
      "CR AIN SBIT\n",
      "CR AIN JOHRA\n",
      "CR AIT BELKACEM\n",
      "CR AIT BOUYAHYA  EL HAJ\n",
      "MU AIN EL AOUDA\n",
      "CR AIN ATTIG\n",
      "AR AGDAL RIYAD\n"
     ]
    }
   ],
   "source": [
    "with da.SearchCursor(fc,[\"LIBELLE\"],\n",
    "                     \"LIBELLE LIKE '___A%'\") as cursor:\n",
    "    for row in cursor:\n",
    "        print('{}'.format(row[0]))"
   ]
  },
  {
   "cell_type": "raw",
   "metadata": {},
   "source": [
    "QST 4"
   ]
  },
  {
   "cell_type": "code",
   "execution_count": 10,
   "metadata": {
    "collapsed": false
   },
   "outputs": [
    {
     "name": "stdout",
     "output_type": "stream",
     "text": [
      "CR SIDI ABDERRAZAK est RURAL, et sa pop : 13654.0\n",
      "CR AIT MIMOUNE est RURAL, et sa pop : 10236.0\n",
      "CR AIT OURIBEL est RURAL, et sa pop : 10224.0\n",
      "CR AIT YADINE est RURAL, et sa pop : 19461.0\n",
      "CR ELGANZRA est RURAL, et sa pop : 13404.0\n",
      "CR SIDI EL GHANDOUR est RURAL, et sa pop : 18587.0\n",
      "CR AIT IKKOU est RURAL, et sa pop : 10676.0\n",
      "CR AIN SBIT est RURAL, et sa pop : 11411.0\n",
      "CR BRACHOUA est RURAL, et sa pop : 12371.0\n",
      "CR EZZHILIGA est RURAL, et sa pop : 15506.0\n",
      "CR LAGHOUALEM est RURAL, et sa pop : 12560.0\n",
      "CR MARCHOUCH est RURAL, et sa pop : 11075.0\n",
      "CR AIN JOHRA est RURAL, et sa pop : 10151.0\n",
      "CR M QAM TOLBA est RURAL, et sa pop : 14705.0\n",
      "CR SHOUL est RURAL, et sa pop : 19706.0\n",
      "CR SIDI BOUKNADEL est RURAL, et sa pop : 34279.0\n",
      "CR OUMAZZA est RURAL, et sa pop : 10530.0\n",
      "CR SIDI YAHYA ZAER est RURAL, et sa pop : 28773.0\n",
      "CR AIN ATTIG est RURAL, et sa pop : 17688.0\n",
      "CR MERS EL KHEIR est RURAL, et sa pop : 14488.0\n",
      "CR SABBAH est RURAL, et sa pop : 12912.0\n",
      "CR MAJMAA TOLBA est RURAL, et sa pop : 16698.0\n"
     ]
    }
   ],
   "source": [
    "with da.SearchCursor(fc,[\"TYPE\",\"LIBELLE\", \"POP04\"],\n",
    "                     \"TYPE='RURAL' and POP04> 10000\") as cursor:\n",
    "    for row in cursor:\n",
    "        print('{} est {}, et sa pop : {}'.format(row[1],row[0], row[2]))"
   ]
  },
  {
   "cell_type": "markdown",
   "metadata": {},
   "source": [
    "QST 5"
   ]
  },
  {
   "cell_type": "code",
   "execution_count": 11,
   "metadata": {
    "collapsed": false
   },
   "outputs": [
    {
     "name": "stdout",
     "output_type": "stream",
     "text": [
      "name: CR ELGANZRA \n"
     ]
    }
   ],
   "source": [
    "with da.SearchCursor(fc,[\"LIBELLE\"],\n",
    "                     \"Eleve_ing='ZIDI SALMA'\") as cursor:\n",
    "    for row in cursor:\n",
    "        print('name: {} '.format(row[0]))"
   ]
  },
  {
   "cell_type": "markdown",
   "metadata": {},
   "source": [
    "QST 6"
   ]
  },
  {
   "cell_type": "code",
   "execution_count": 12,
   "metadata": {
    "collapsed": false
   },
   "outputs": [
    {
     "data": {
      "text/plain": [
       "<Result 'D:\\\\Data_arcpy\\\\Data_ProgSIG_Ctr20\\\\Data_ProgSIG_Ctr20\\\\Provinces.shp'>"
      ]
     },
     "execution_count": 12,
     "metadata": {},
     "output_type": "execute_result"
    }
   ],
   "source": [
    "Dissolve_management(fc, \"Provinces\", \"CODPR\")   "
   ]
  },
  {
   "cell_type": "code",
   "execution_count": 13,
   "metadata": {
    "collapsed": false
   },
   "outputs": [
    {
     "name": "stdout",
     "output_type": "stream",
     "text": [
      "[u'Communes_04', u'Douars', u'Provinces']\n"
     ]
    }
   ],
   "source": [
    "def listingfeatures():\n",
    "    return [Describe(feature).baseName for feature in ListFeatureClasses()]\n",
    "\n",
    "print listingfeatures()"
   ]
  },
  {
   "cell_type": "markdown",
   "metadata": {},
   "source": [
    "qst 7"
   ]
  },
  {
   "cell_type": "code",
   "execution_count": 15,
   "metadata": {
    "collapsed": false
   },
   "outputs": [
    {
     "name": "stdout",
     "output_type": "stream",
     "text": [
      "population totale: 521815.0, superficie: 7735.65179101 km² et le code du province est 291.0\n"
     ]
    }
   ],
   "source": [
    "with da.SearchCursor(fc,[\"POP04\", \"AREA\", \"CODPR\"],\n",
    "                     \"CODPR=291.0\") as cursor:\n",
    "    pop_tot=0\n",
    "    super_tot=0\n",
    "    for row in cursor:\n",
    "        code = row[2]\n",
    "        pop_tot+=row[0]\n",
    "        super_tot+=row[1]\n",
    "    print \"population totale: {}, superficie: {} km² et le code du province est {}\".format(pop_tot, super_tot, code) "
   ]
  },
  {
   "cell_type": "markdown",
   "metadata": {},
   "source": [
    "QST 8"
   ]
  },
  {
   "cell_type": "code",
   "execution_count": 23,
   "metadata": {
    "collapsed": false
   },
   "outputs": [
    {
     "name": "stdout",
     "output_type": "stream",
     "text": [
      "67.4558542832 habitants au Km²\n"
     ]
    }
   ],
   "source": [
    "with da.SearchCursor(fc,[ \"POP04\", \"AREA\"],\n",
    "                     \"CODPR=291.0\") as cursor:\n",
    "    pop_tot=0\n",
    "    super_tot = 0\n",
    "    for row in cursor:\n",
    "        pop_tot+=row[0]\n",
    "        super_tot+=row[1]\n",
    "    densite = pop_tot/super_tot\n",
    "    print str(densite) + \" habitants au Km²\" \n",
    "\n",
    "AddField_management(\"Provinces.shp\",\"densitePop\",\"Double\")        \n",
    "#CalculateField_management(\"Provinces.shp\", \"densitePop\", densite, \"PYTHON\" \n",
    "#with da.InsertCursor(\"Provinces.shp\", [\"CODPR\", \"densitePop\"]) as cursor:\n",
    "'''\n",
    "for row in cursor:\n",
    "        if row[0]==291.0:\n",
    "            cursor.InsertCursor(densite)\n",
    "'''\n",
    "with da.UpdateCursor(\"Provinces.shp\", [\"CODPR\", \"densitePop\"]) as cursor:\n",
    "    for row in cursor:\n",
    "        if row[0]==291.0:\n",
    "            row[1]=densite\n",
    "        else:\n",
    "            row[1]=0\n",
    "        cursor.updateRow(row)"
   ]
  },
  {
   "cell_type": "code",
   "execution_count": 12,
   "metadata": {
    "collapsed": false
   },
   "outputs": [
    {
     "name": "stdout",
     "output_type": "stream",
     "text": [
      "FID\n",
      "Shape\n",
      "CODPR\n",
      "densitePop\n"
     ]
    }
   ],
   "source": [
    "for elem in ListFields(\"Provinces.shp\"):\n",
    "    print elem.name"
   ]
  },
  {
   "cell_type": "markdown",
   "metadata": {
    "collapsed": false
   },
   "source": [
    "QST9  "
   ]
  },
  {
   "cell_type": "code",
   "execution_count": 26,
   "metadata": {
    "collapsed": false
   },
   "outputs": [
    {
     "data": {
      "text/plain": [
       "<Result 'D:\\\\Data_arcpy\\\\Data_ProgSIG_Ctr20\\\\Data_ProgSIG_Ctr20\\\\Douars_Macommune.shp'>"
      ]
     },
     "execution_count": 26,
     "metadata": {},
     "output_type": "execute_result"
    }
   ],
   "source": [
    "MakeFeatureLayer_management(\"Communes_04.shp\",\"commune\")\n",
    "maCommune=SelectLayerByAttribute_management(\"commune\" ,\"NEW_SELECTION\",\"Eleve_ing='ZIDI SALMA'\" )\n",
    "CopyFeatures_management(maCommune,\"D:\\Data_arcpy\\Data_ProgSIG_Ctr20\\Data_ProgSIG_Ctr20\\Ma_commune\")\n",
    "Intersect_analysis ([\"douars.shp\",\"Ma_commune.shp\"], \"Douars_Macommune.shp\", \"\", 1.5, \"point\")"
   ]
  },
  {
   "cell_type": "code",
   "execution_count": 28,
   "metadata": {
    "collapsed": false
   },
   "outputs": [
    {
     "name": "stdout",
     "output_type": "stream",
     "text": [
      "FID\n",
      "Shape\n",
      "FID_Douars\n",
      "CODE_D\n",
      "FID_Ma_com\n",
      "CODPR\n",
      "CODEC\n",
      "LIBELLE\n",
      "POP04\n",
      "ANALPH\n",
      "ACTV\n",
      "POV\n",
      "TYPE\n",
      "Eleve_ing\n",
      "area\n"
     ]
    }
   ],
   "source": [
    "for champ in ListFields(\"Douars_Macommune.shp\"):\n",
    "    print champ.name"
   ]
  },
  {
   "cell_type": "markdown",
   "metadata": {},
   "source": [
    "QST10"
   ]
  },
  {
   "cell_type": "code",
   "execution_count": 3,
   "metadata": {
    "collapsed": false
   },
   "outputs": [
    {
     "name": "stdout",
     "output_type": "stream",
     "text": [
      "nombre des douars est : 29\n"
     ]
    }
   ],
   "source": [
    "with da.SearchCursor(\"Douars_Macommune.shp\", [\"FID\"]) as cursor:\n",
    "    nombre_douars = []\n",
    "    for row in cursor:\n",
    "        nombre_douars.append(row[0])\n",
    "    print \"nombre des douars est : {}\".format(len(nombre_douars))"
   ]
  },
  {
   "cell_type": "markdown",
   "metadata": {},
   "source": [
    "QST 11"
   ]
  },
  {
   "cell_type": "code",
   "execution_count": 42,
   "metadata": {
    "collapsed": false
   },
   "outputs": [
    {
     "data": {
      "text/plain": [
       "<Result 'C:\\\\Users\\\\LAKTEB\\\\Documents\\\\ArcGIS\\\\Default.gdb\\\\point_centroid'>"
      ]
     },
     "execution_count": 42,
     "metadata": {},
     "output_type": "execute_result"
    }
   ],
   "source": [
    "#on ajoute d'abord le point centroide dans une couche\n",
    "with da.SearchCursor(\"Douars_Macommune.shp\", \"SHAPE@XY\") as cursor:\n",
    "    centroid_coords = []\n",
    "    for row in cursor:\n",
    "        centroid_coords.append(row[0])\n",
    "    point = Point()\n",
    "    pointGeometryList = []\n",
    "    for pt in centroid_coords:\n",
    "        point.X = pt[0]\n",
    "        point.Y = pt[1]\n",
    "\n",
    "    pointGeometry = PointGeometry(point)\n",
    "    pointGeometryList.append(pointGeometry)\n",
    "arcpy.CopyFeatures_management(pointGeometryList, \"C:\\Users\\LAKTEB\\Documents\\ArcGIS\\Default.gdb\\point_centroid\")"
   ]
  },
  {
   "cell_type": "code",
   "execution_count": 50,
   "metadata": {
    "collapsed": false
   },
   "outputs": [
    {
     "data": {
      "text/plain": [
       "<PointGeometry object at 0x5c736d0[0x5c746e0]>"
      ]
     },
     "execution_count": 50,
     "metadata": {},
     "output_type": "execute_result"
    }
   ],
   "source": [
    "pointGeometry"
   ]
  },
  {
   "cell_type": "code",
   "execution_count": 52,
   "metadata": {
    "collapsed": false
   },
   "outputs": [
    {
     "name": "stdout",
     "output_type": "stream",
     "text": [
      "[(449000.0001220703, 388000.0001220703)]\n"
     ]
    }
   ],
   "source": [
    "#point centroide\n",
    "with da.SearchCursor(\"C:\\Users\\LAKTEB\\Documents\\ArcGIS\\Default.gdb\\point_centroid\", \"SHAPE@XY\") as cursor:\n",
    "    centroid_coords = []\n",
    "    for row in cursor:\n",
    "        centroid_coords.append(row[0])\n",
    "    print centroid_coords"
   ]
  },
  {
   "cell_type": "markdown",
   "metadata": {},
   "source": [
    "QST 12"
   ]
  },
  {
   "cell_type": "code",
   "execution_count": 65,
   "metadata": {
    "collapsed": false
   },
   "outputs": [
    {
     "data": {
      "text/plain": [
       "<Result 'D:\\\\Data_arcpy\\\\Data_ProgSIG_Ctr20\\\\Data_ProgSIG_Ctr20\\\\Douars_Macommune.shp'>"
      ]
     },
     "execution_count": 65,
     "metadata": {},
     "output_type": "execute_result"
    }
   ],
   "source": [
    "Near_analysis(\"Douars_Macommune.shp\", \"C:\\Users\\LAKTEB\\Documents\\ArcGIS\\Default.gdb\\point_centroid\")"
   ]
  },
  {
   "cell_type": "code",
   "execution_count": 67,
   "metadata": {
    "collapsed": false
   },
   "outputs": [
    {
     "name": "stdout",
     "output_type": "stream",
     "text": [
      "FID\n",
      "Shape\n",
      "FID_Douars\n",
      "CODE_D\n",
      "FID_Ma_com\n",
      "CODPR\n",
      "CODEC\n",
      "LIBELLE\n",
      "POP04\n",
      "ANALPH\n",
      "ACTV\n",
      "POV\n",
      "TYPE\n",
      "Eleve_ing\n",
      "area\n",
      "NEAR_FID\n",
      "NEAR_DIST\n"
     ]
    }
   ],
   "source": [
    "for field in ListFields(\"Douars_Macommune.shp\"):\n",
    "    print field.name"
   ]
  },
  {
   "cell_type": "code",
   "execution_count": 103,
   "metadata": {
    "collapsed": false
   },
   "outputs": [
    {
     "name": "stdout",
     "output_type": "stream",
     "text": [
      "distance: 1414.21356237 id: 26\n"
     ]
    }
   ],
   "source": [
    "with da.SearchCursor(\"Douars_Macommune.shp\", [\"NEAR_DIST\"]) as cursor:\n",
    "    near_dis = []\n",
    "    for row in cursor:\n",
    "        if row[0] != 4.13274392486e-09:\n",
    "            near_dis.append(row[0])\n",
    "    print \"distance:\", min(near_dis), \"id:\", near_dis.index(min(near_dis))"
   ]
  },
  {
   "cell_type": "code",
   "execution_count": null,
   "metadata": {
    "collapsed": true
   },
   "outputs": [],
   "source": []
  }
 ],
 "metadata": {
  "kernelspec": {
   "display_name": "Python 2",
   "language": "python",
   "name": "python2"
  },
  "language_info": {
   "codemirror_mode": {
    "name": "ipython",
    "version": 2
   },
   "file_extension": ".py",
   "mimetype": "text/x-python",
   "name": "python",
   "nbconvert_exporter": "python",
   "pygments_lexer": "ipython2",
   "version": "2.7.10"
  }
 },
 "nbformat": 4,
 "nbformat_minor": 0
}
