{
 "cells": [
  {
   "cell_type": "code",
   "execution_count": 1,
   "metadata": {
    "collapsed": true
   },
   "outputs": [],
   "source": [
    "from arcpy import * "
   ]
  },
  {
   "cell_type": "code",
   "execution_count": 15,
   "metadata": {
    "collapsed": true
   },
   "outputs": [],
   "source": [
    "env.workspace=r\"C:\\Users\\LAKTEB\\Documents\\ArcGIS\\Default.gdb\""
   ]
  },
  {
   "cell_type": "code",
   "execution_count": 2,
   "metadata": {
    "collapsed": true
   },
   "outputs": [],
   "source": [
    "def tri_ins(t):\n",
    "    for k in range(1,len(t)):\n",
    "        temp=t[k]\n",
    "        j=k\n",
    "        while j>0 and temp.X<t[j-1].X:\n",
    "            t[j]=t[j-1]\n",
    "            j-=1\n",
    "            t[j]=temp\n",
    "    return t"
   ]
  },
  {
   "cell_type": "code",
   "execution_count": 3,
   "metadata": {
    "collapsed": true
   },
   "outputs": [],
   "source": [
    "allPoints = tri_ins(list(set([Point(-1, 0), Point(0, 1), Point(1, 4),Point(2, 3), Point(9, 6),Point(4, 5), Point(7, 9), Point(0.5, 2), Point(2, 4)])))"
   ]
  },
  {
   "cell_type": "code",
   "execution_count": 4,
   "metadata": {
    "collapsed": false
   },
   "outputs": [
    {
     "name": "stdout",
     "output_type": "stream",
     "text": [
      "[<Point (-1.0, 0.0, #, #)>, <Point (0.0, 1.0, #, #)>, <Point (0.5, 2.0, #, #)>, <Point (1.0, 4.0, #, #)>, <Point (2.0, 3.0, #, #)>, <Point (2.0, 4.0, #, #)>, <Point (4.0, 5.0, #, #)>, <Point (7.0, 9.0, #, #)>, <Point (9.0, 6.0, #, #)>]\n"
     ]
    }
   ],
   "source": [
    "print allPoints"
   ]
  },
  {
   "cell_type": "code",
   "execution_count": 42,
   "metadata": {
    "collapsed": false
   },
   "outputs": [
    {
     "name": "stdout",
     "output_type": "stream",
     "text": [
      "[-1.0, 0.0] [9.0, 6.0]\n"
     ]
    }
   ],
   "source": [
    "xmin = [allPoints[0].X, allPoints[0].Y]\n",
    "xmax= [allPoints[-1].X, allPoints[-1].Y]\n",
    "print xmin, xmax"
   ]
  },
  {
   "cell_type": "code",
   "execution_count": 27,
   "metadata": {
    "collapsed": false
   },
   "outputs": [
    {
     "data": {
      "text/plain": [
       "<Array [<Point (-1.0, 0.0, #, #)>, <Point (9.0, 6.0, #, #)>, <Point (-1.0, 0.0, #, #)>, <Point (7.0, 7.0, #, #)>]>"
      ]
     },
     "execution_count": 27,
     "metadata": {},
     "output_type": "execute_result"
    }
   ],
   "source": [
    "\n",
    "\n",
    "#management.MinimumBoundingGeometry(in_features, out_feature_class, {geometry_type}, {group_option}, {group_field}, {mbg_fields_option})"
   ]
  },
  {
   "cell_type": "code",
   "execution_count": 47,
   "metadata": {
    "collapsed": false
   },
   "outputs": [
    {
     "data": {
      "text/plain": [
       "<Result 'C:\\\\Users\\\\LAKTEB\\\\Documents\\\\ArcGIS\\\\Default.gdb\\\\points1'>"
      ]
     },
     "execution_count": 47,
     "metadata": {},
     "output_type": "execute_result"
    }
   ],
   "source": [
    "CreateFeatureclass_management (env.workspace, \"points1\", \n",
    "                               \"POINT\",spatial_reference=SpatialReference(26191))"
   ]
  },
  {
   "cell_type": "code",
   "execution_count": 48,
   "metadata": {
    "collapsed": false
   },
   "outputs": [
    {
     "data": {
      "text/plain": [
       "<Result 'C:\\\\Users\\\\LAKTEB\\\\Documents\\\\ArcGIS\\\\Default.gdb\\\\points1'>"
      ]
     },
     "execution_count": 48,
     "metadata": {},
     "output_type": "execute_result"
    }
   ],
   "source": [
    "AddField_management (\"points1\", \"X\", \"Float\")\n",
    "AddField_management (\"points1\", \"Y\", \"Float\")"
   ]
  },
  {
   "cell_type": "code",
   "execution_count": 49,
   "metadata": {
    "collapsed": false
   },
   "outputs": [
    {
     "ename": "TypeError",
     "evalue": "sequence size must match size of the row",
     "output_type": "error",
     "traceback": [
      "\u001b[1;31m---------------------------------------------------------------------------\u001b[0m",
      "\u001b[1;31mTypeError\u001b[0m                                 Traceback (most recent call last)",
      "\u001b[1;32m<ipython-input-49-4d664573f3a5>\u001b[0m in \u001b[0;36m<module>\u001b[1;34m()\u001b[0m\n\u001b[0;32m      8\u001b[0m \u001b[1;32mwith\u001b[0m \u001b[0mda\u001b[0m\u001b[1;33m.\u001b[0m\u001b[0mInsertCursor\u001b[0m\u001b[1;33m(\u001b[0m\u001b[1;34m\"points1\"\u001b[0m\u001b[1;33m,\u001b[0m\u001b[1;33m[\u001b[0m\u001b[1;34m\"X\"\u001b[0m\u001b[1;33m,\u001b[0m \u001b[1;34m\"Y\"\u001b[0m\u001b[1;33m]\u001b[0m\u001b[1;33m)\u001b[0m \u001b[1;32mas\u001b[0m \u001b[0mcursor\u001b[0m\u001b[1;33m:\u001b[0m\u001b[1;33m\u001b[0m\u001b[0m\n\u001b[0;32m      9\u001b[0m     \u001b[1;32mfor\u001b[0m \u001b[0mi\u001b[0m \u001b[1;32min\u001b[0m \u001b[0mrange\u001b[0m\u001b[1;33m(\u001b[0m\u001b[0mlen\u001b[0m\u001b[1;33m(\u001b[0m\u001b[0ml\u001b[0m\u001b[1;33m)\u001b[0m\u001b[1;33m)\u001b[0m\u001b[1;33m:\u001b[0m\u001b[1;33m\u001b[0m\u001b[0m\n\u001b[1;32m---> 10\u001b[1;33m         \u001b[0mcursor\u001b[0m\u001b[1;33m.\u001b[0m\u001b[0minsertRow\u001b[0m\u001b[1;33m(\u001b[0m\u001b[1;33m[\u001b[0m\u001b[0mPointGeometry\u001b[0m\u001b[1;33m(\u001b[0m\u001b[0mPoint\u001b[0m\u001b[1;33m(\u001b[0m\u001b[0ml\u001b[0m\u001b[1;33m[\u001b[0m\u001b[0mi\u001b[0m\u001b[1;33m]\u001b[0m\u001b[1;33m[\u001b[0m\u001b[1;36m0\u001b[0m\u001b[1;33m]\u001b[0m\u001b[1;33m,\u001b[0m \u001b[0ml\u001b[0m\u001b[1;33m[\u001b[0m\u001b[0mi\u001b[0m\u001b[1;33m]\u001b[0m\u001b[1;33m[\u001b[0m\u001b[1;36m1\u001b[0m\u001b[1;33m]\u001b[0m\u001b[1;33m)\u001b[0m\u001b[1;33m)\u001b[0m\u001b[1;33m]\u001b[0m\u001b[1;33m)\u001b[0m\u001b[1;33m\u001b[0m\u001b[0m\n\u001b[0m",
      "\u001b[1;31mTypeError\u001b[0m: sequence size must match size of the row"
     ]
    }
   ],
   "source": [
    "y = []\n",
    "for i in allPoints:\n",
    "  y.append(i.Y)\n",
    "ymin= [allPoints[y.index(min(y))].X,allPoints[y.index(min(y))].Y] \n",
    "ymax= [allPoints[y.index(max(y))].X,allPoints[y.index(max(y))].Y] \n",
    "l=[xmin, xmax, ymin, ymax]\n",
    "\n",
    "with da.InsertCursor(\"points1\",[\"X\", \"Y\"]) as cursor:\n",
    "    for i in range(len(l)):\n",
    "        cursor.insertRow([PointGeometry(Point(l[i][0], l[i][1]))])"
   ]
  },
  {
   "cell_type": "code",
   "execution_count": null,
   "metadata": {
    "collapsed": true
   },
   "outputs": [],
   "source": []
  },
  {
   "cell_type": "code",
   "execution_count": 36,
   "metadata": {
    "collapsed": false
   },
   "outputs": [
    {
     "ename": "ExecuteError",
     "evalue": "ERROR 000622: Failed to execute (Minimum Bounding Geometry). Parameters are not valid.\nERROR 000623: Invalid value type for parameter in_features.\n",
     "output_type": "error",
     "traceback": [
      "\u001b[1;31m---------------------------------------------------------------------------\u001b[0m",
      "\u001b[1;31mExecuteError\u001b[0m                              Traceback (most recent call last)",
      "\u001b[1;32m<ipython-input-36-55c57e32a486>\u001b[0m in \u001b[0;36m<module>\u001b[1;34m()\u001b[0m\n\u001b[1;32m----> 1\u001b[1;33m \u001b[0mmanagement\u001b[0m\u001b[1;33m.\u001b[0m\u001b[0mMinimumBoundingGeometry\u001b[0m\u001b[1;33m(\u001b[0m\u001b[0ml\u001b[0m\u001b[1;33m,\u001b[0m \u001b[1;34m\"C:\\Users\\LAKTEB\\Documents\\ArcGIS\\Default.gdb\\omar\"\u001b[0m\u001b[1;33m,\u001b[0m \u001b[1;34m\"ENVELOPE\"\u001b[0m\u001b[1;33m)\u001b[0m\u001b[1;33m\u001b[0m\u001b[0m\n\u001b[0m",
      "\u001b[1;32mC:\\Program Files (x86)\\ArcGIS\\Desktop10.8\\ArcPy\\arcpy\\management.pyc\u001b[0m in \u001b[0;36mMinimumBoundingGeometry\u001b[1;34m(in_features, out_feature_class, geometry_type, group_option, group_field, mbg_fields_option)\u001b[0m\n\u001b[0;32m   2918\u001b[0m         \u001b[1;32mreturn\u001b[0m \u001b[0mretval\u001b[0m\u001b[1;33m\u001b[0m\u001b[0m\n\u001b[0;32m   2919\u001b[0m     \u001b[1;32mexcept\u001b[0m \u001b[0mException\u001b[0m \u001b[1;32mas\u001b[0m \u001b[0me\u001b[0m\u001b[1;33m:\u001b[0m\u001b[1;33m\u001b[0m\u001b[0m\n\u001b[1;32m-> 2920\u001b[1;33m         \u001b[1;32mraise\u001b[0m \u001b[0me\u001b[0m\u001b[1;33m\u001b[0m\u001b[0m\n\u001b[0m\u001b[0;32m   2921\u001b[0m \u001b[1;33m\u001b[0m\u001b[0m\n\u001b[0;32m   2922\u001b[0m \u001b[1;33m@\u001b[0m\u001b[0mgptooldoc\u001b[0m\u001b[1;33m(\u001b[0m\u001b[1;34m'MultipartToSinglepart_management'\u001b[0m\u001b[1;33m,\u001b[0m \u001b[0mNone\u001b[0m\u001b[1;33m)\u001b[0m\u001b[1;33m\u001b[0m\u001b[0m\n",
      "\u001b[1;31mExecuteError\u001b[0m: ERROR 000622: Failed to execute (Minimum Bounding Geometry). Parameters are not valid.\nERROR 000623: Invalid value type for parameter in_features.\n"
     ]
    }
   ],
   "source": [
    "management.MinimumBoundingGeometry(l, \"C:\\Users\\LAKTEB\\Documents\\ArcGIS\\Default.gdb\\omar\", \"ENVELOPE\")"
   ]
  }
 ],
 "metadata": {
  "kernelspec": {
   "display_name": "Python 2",
   "language": "python",
   "name": "python2"
  },
  "language_info": {
   "codemirror_mode": {
    "name": "ipython",
    "version": 2
   },
   "file_extension": ".py",
   "mimetype": "text/x-python",
   "name": "python",
   "nbconvert_exporter": "python",
   "pygments_lexer": "ipython2",
   "version": "2.7.10"
  }
 },
 "nbformat": 4,
 "nbformat_minor": 0
}
